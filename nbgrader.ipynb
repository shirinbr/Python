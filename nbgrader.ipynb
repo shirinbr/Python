{
 "cells": [
  {
   "cell_type": "markdown",
   "id": "e03476ea-fbf2-4787-927a-da7b04c0e349",
   "metadata": {
    "tags": []
   },
   "source": [
    "### August 19th, 2022\n",
    "**Meeting with Patrick and Pam about creating assignments on Jupyter using *nbgrader***"
   ]
  },
  {
   "cell_type": "markdown",
   "id": "88450a0e-a05c-40e2-941a-ab81f62f0fff",
   "metadata": {},
   "source": [
    "nbgrader currently only works on Jupyter Notebook and not on Jupyter Lab. After installing nbgrader and its extensions, three tabs will be added to the Jupyter view of the working directory, *Formgrader*, *Assignments*, *Courses*. Click on *Formgrader* to create an nbgrader environment and then *Add a New Assignment*. By doing this, a gradebook.db file will be created"
   ]
  },
  {
   "cell_type": "markdown",
   "id": "aa25b9c4-5e26-4577-a6c3-c946c811ece2",
   "metadata": {},
   "source": [
    "Formgrader > Add new assignment\n",
    "\n",
    "* This will create gradebook.db file in the working directory. You need to open Jupyter Notebook after you navigated the working directory to your desired directory, otherwise the gradebook.db is created on the home (root) directory.\n",
    "\n",
    "* With the new assignment created, a **source** file will be added to the working directory in which the created assignments on nbgrader live.\n",
    "\n",
    "* On the nbgrader page, clicking on the assignments takes you to the Jupyter Notebook page which will be empty. We create a new ipython notebook and add contents to that notebook which will be in fact the assignment that will posted for students."
   ]
  },
  {
   "cell_type": "markdown",
   "id": "f87f894f-1f1e-447e-8e30-47c99ed9e708",
   "metadata": {},
   "source": []
  },
  {
   "cell_type": "code",
   "execution_count": null,
   "id": "9e789311-2168-49a8-8c7c-17ca143c1c40",
   "metadata": {},
   "outputs": [],
   "source": []
  }
 ],
 "metadata": {
  "kernelspec": {
   "display_name": "Python 3 (ipykernel)",
   "language": "python",
   "name": "python3"
  },
  "language_info": {
   "codemirror_mode": {
    "name": "ipython",
    "version": 3
   },
   "file_extension": ".py",
   "mimetype": "text/x-python",
   "name": "python",
   "nbconvert_exporter": "python",
   "pygments_lexer": "ipython3",
   "version": "3.9.5"
  },
  "toc-autonumbering": false,
  "toc-showcode": true,
  "toc-showmarkdowntxt": true
 },
 "nbformat": 4,
 "nbformat_minor": 5
}

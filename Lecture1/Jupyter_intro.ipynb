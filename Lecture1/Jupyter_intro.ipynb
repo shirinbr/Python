{
 "cells": [
  {
   "cell_type": "markdown",
   "id": "9cd46c8f-9c1f-4030-bf51-2656182c8fbe",
   "metadata": {},
   "source": [
    "# Introduction to Jupyter Notebooks\n",
    "Jupyter Notebook is an interactive and open source web application to create and share documents containing text, code, images, etc. A Jupyter notebook is a document where you can write and run code, display the output and also add explanations in the form of texts, mathematical equations, images, etc, so that to make your work more transparent, understandable and shareable.\n",
    "\n",
    "A notebook is saved as a `.ipynb` file, so each time you create a new notebook, a new `.ipynb` file is created.\n",
    "\n",
    "Each notebook contains **cells**. A cell is a container for the text to be displayed or code to be executed. There are two main kinds of cells; markdown cells and code cells.  To run the content of a cell, press **shift+enter** on your keyboard or use the `run` button above.\n",
    "\n",
    "A **kernel** is a *computational engine* that executes contents of a notebook. We will talk about kernels more.\n",
    "\n",
    "There are two modes in Jupyter notebook: edit mode and command mode.\n",
    "\n",
    "In *edit* mode, we make edits to the contents of cells; while in the *command* mode, we edit the cells in a notebook such as adding, cutting and pasting cells. \n",
    "\n",
    "To switch to edit mode, click inside the cell you want to edit or press `Enter` on the keyboard. To switch to command mode click outside a cell or on keyboard press *Escape* `Esc`. "
   ]
  },
  {
   "cell_type": "markdown",
   "id": "6ca143a6-8af6-4c9c-90db-87921f36faef",
   "metadata": {},
   "source": [
    "## Markdown"
   ]
  },
  {
   "cell_type": "markdown",
   "id": "ef8363bc-df23-459a-9186-26d9e79cc441",
   "metadata": {},
   "source": [
    "Markdown is a simple lightweight text-to-HTML language. It is a writing standard for data scientists and analysts and is often converted into the corresponding HTML by the Markdown processor which allows it to be easily shared between different devices and people.\n",
    "\n",
    "To select or switch to a Markdown cell in a Jupyter notebook you can use the drop-down above or use the keyboard shortcut `m` or `M` in *command mode*. \n",
    "\n",
    "You have probably noticed by now that to create new paragraphs you enter a blank line. This will separate lines of the text.\n",
    "\n",
    "To make a horizontal line you can enter three hyphens `---` or use the tag `<hr>`.\n"
   ]
  },
  {
   "cell_type": "markdown",
   "id": "e0e89712-4c50-4439-9e74-74b45f1a6f3e",
   "metadata": {},
   "source": [
    "### Headings\n",
    "\n"
   ]
  },
  {
   "cell_type": "markdown",
   "id": "4f22b87f-9659-479c-8659-1e13ae824a88",
   "metadata": {},
   "source": [
    "To create headings we start with the hash symbol `#` followed by a space. The largest heading has only one hash symbol and you can add up to 6 hash symbols to create headings of different size. \n",
    "\n",
    "Examples:\n",
    "\n",
    "   # Heading 1\n",
    "\n",
    "   ## Heading 2\n",
    "\n",
    "   ###### Heading 6\n"
   ]
  },
  {
   "cell_type": "markdown",
   "id": "1aa3d6d1-db70-4ed9-803c-26f8db28efbd",
   "metadata": {},
   "source": [
    "### Bold, italic, verbatim text"
   ]
  },
  {
   "cell_type": "markdown",
   "id": "f4f00ba8-e3d2-4ebb-94bf-a76a711b3c5f",
   "metadata": {},
   "source": [
    "To create text in bold you can use **double asterik** `**` to open and close the part of the text you want it in bold. Alternatively, you can also use double underscore `__` or the tag `<b> text <b>`.\n",
    "\n",
    "This is **bold**.\n",
    "\n",
    "This is __bold__.\n",
    "\n",
    "And this is <b> bold <b>."
   ]
  },
  {
   "cell_type": "markdown",
   "id": "813c5e04-d973-49a2-8c10-671489a65102",
   "metadata": {},
   "source": [
    "To create text in italic, use single asterik `*`, or single underscore `_` or the tag `<i>`.\n",
    "\n",
    "This is *italic*.\n",
    "\n",
    "This is _italic_.\n",
    "\n",
    "And this is <i>italic<i>.\n",
    "    \n",
    "So to emphasize with bold and italic we then use ...?"
   ]
  },
  {
   "cell_type": "markdown",
   "id": "2b74f721-8021-4817-b791-7aba18d32bd4",
   "metadata": {},
   "source": [
    "To include a code command or syntax in a markdown cell we use inline code formatting. To use inline code formatting, simply wrap the code you wish to format in backticks. For example you want to emphazise on the code word `print` or syntax symbol `**` in your markdown cell.\n",
    "\n",
    "We may refer to this as a `verbatim` text."
   ]
  },
  {
   "cell_type": "markdown",
   "id": "4147a855-9c48-4680-97db-a6db18df9cf1",
   "metadata": {},
   "source": [
    "### Lists"
   ]
  },
  {
   "cell_type": "markdown",
   "id": "b285802f-8313-4e16-a8c1-37cf88b5ae28",
   "metadata": {},
   "source": [
    "Items can be organized into ordered and unordered lists."
   ]
  },
  {
   "cell_type": "markdown",
   "id": "047e93c8-a2f0-41fc-a9db-74c3fdd1abad",
   "metadata": {},
   "source": [
    "#### Ordered lists\n",
    "\n",
    "To create an ordered list, we use numbers followed by a `.`, as `1.` , `2.`, etc. The numbers don't need to be in numerical order, but the list should start with number 1. The rendered output will be a list with numerical order."
   ]
  },
  {
   "cell_type": "markdown",
   "id": "00561407-9038-4f3f-9d68-edeb184592e7",
   "metadata": {},
   "source": [
    "A list of sports that use a ball:\n",
    "1. Soccer\n",
    "2. Basketball\n",
    "3. Volleyball\n",
    "\n",
    "or\n",
    "1. Hockey\n",
    "3. Tennis\n",
    "8. Ping pong"
   ]
  },
  {
   "cell_type": "markdown",
   "id": "0075da02-46dc-4b1f-a44d-93ebc7469903",
   "metadata": {},
   "source": [
    "#### Unordered list\n",
    "\n",
    "To create an unordered list use dashes `-` or asteriks `*` or `+` sign in front of the item you want to list.Use two or more indents to create nested lists."
   ]
  },
  {
   "cell_type": "markdown",
   "id": "688195e2-a54a-48f2-91d3-ca3b41115c26",
   "metadata": {},
   "source": [
    "- Vancouver\n",
    "  - UBC\n",
    "     * Science\n",
    "     * Engineering\n",
    "  - SFU\n",
    "- Kamloops\n",
    "  * TRU\n",
    "    + Science\n",
    "    + Business\n",
    "- Kelowna\n",
    "  + UBC Okanagan"
   ]
  },
  {
   "cell_type": "markdown",
   "id": "d3a045c0-7746-4881-9466-2e6ad33299c7",
   "metadata": {},
   "source": [
    "We can combine ordered and unordered lists simply by combining their corresponding syntax."
   ]
  },
  {
   "cell_type": "markdown",
   "id": "ab3441bc-e427-4630-af00-840a6f3bdbe0",
   "metadata": {},
   "source": [
    "###  URL and images"
   ]
  },
  {
   "cell_type": "markdown",
   "id": "9839b904-6d88-4d47-ad8f-38112f108dfb",
   "metadata": {},
   "source": [
    "* To quickly turn a URL or an email address into a link, wrap it in angle brackets.\n",
    "\n",
    "My email is: <sboroushaki@tru.ca> and the course information is on https://moodle.tru.ca/login/index.php"
   ]
  },
  {
   "cell_type": "markdown",
   "id": "5c1f9ce2-2144-4fa7-9c41-cc2e3a404a93",
   "metadata": {},
   "source": [
    "* Use the syntax `[text](url)` to rename a URL address.\n",
    "\n",
    "For more information about the course click [here](https://moodle.tru.ca/login/index.php)."
   ]
  },
  {
   "cell_type": "markdown",
   "id": "a7ffd8aa-7b96-48bb-b745-c3da1576048e",
   "metadata": {},
   "source": [
    "* If you want to emphasize links you can use bold and italics syntax.\n",
    "\n",
    "Make sure you check the website **[TRU Mathematics](https://www.tru.ca/science/programs/math.html)**."
   ]
  },
  {
   "cell_type": "markdown",
   "id": "7441448b-d892-48e1-88dd-5d7b9c5a5311",
   "metadata": {},
   "source": [
    "* To insert an image into a notebook use the syntax `![text](image path or url)`."
   ]
  },
  {
   "attachments": {
    "12f80414-df24-4538-a90d-a278533232b1.png": {
     "image/png": "[encoded data removed]"
    }
   },
   "cell_type": "markdown",
   "id": "31659711-ad95-49de-bf2c-891015eae23e",
   "metadata": {},
   "source": [
    "![logo.png](attachment:12f80414-df24-4538-a90d-a278533232b1.png)"
   ]
  },
  {
   "cell_type": "markdown",
   "id": "b564fa48-7ea5-4f66-9d40-4c66d36a51f7",
   "metadata": {},
   "source": [
    "![flower](https://upload.wikimedia.org/wikipedia/commons/3/3f/JPEG_example_flower.jpg)"
   ]
  },
  {
   "cell_type": "markdown",
   "id": "52901382-9cab-4840-ad9e-49cccf483349",
   "metadata": {},
   "source": [
    "### Tables"
   ]
  },
  {
   "cell_type": "markdown",
   "id": "a1d31d7a-4522-4382-a26b-9e4ea3f58761",
   "metadata": {},
   "source": [
    "Use \"vertical pipe\" `|` to separate columns and hyphen `-` to create horizontal lines to separate rows."
   ]
  },
  {
   "cell_type": "markdown",
   "id": "5372163d-e3d5-4dd6-ab9f-58e6278c40d1",
   "metadata": {},
   "source": [
    "| Stretch/Untouched | ProbDistribution | Accuracy |\n",
    "| --- | --- | --- |\n",
    "| Stretched | Gaussian | .843 |"
   ]
  },
  {
   "cell_type": "markdown",
   "id": "0f2a1d69-2b1c-4c95-b262-6624fba0283d",
   "metadata": {},
   "source": [
    "| Country | Capital | Continent |\n",
    "| :-: | :-: | :-: |\n",
    "| Canada | ??? | ??? |\n",
    "| Germany | ??? | ??? |\n",
    "| China | ??? | ??? |\n",
    "| Sweden | ??? | ??? |\n",
    "| Egypt | ??? | ??? |\n",
    "| Iran | ??? | ??? |"
   ]
  },
  {
   "cell_type": "markdown",
   "id": "51828fab-743f-4633-8460-adf01692ed20",
   "metadata": {},
   "source": [
    "Note the syntax `:-:` for center alignment."
   ]
  },
  {
   "cell_type": "markdown",
   "id": "276c57bd-6d31-4f52-8a9e-09bb41393d8f",
   "metadata": {},
   "source": [
    "## Code cell"
   ]
  },
  {
   "cell_type": "markdown",
   "id": "5cf0540c-f00d-4723-9f04-b99f6860091e",
   "metadata": {},
   "source": [
    "A code cell contains code to be executed by the kernel. When the code is run, the notebook displays the output below the code cell that generated it.\n",
    "\n",
    "In this course, we write codes in Python. Python is not everyone's choice of programming language for every task. If you want to do advanced computational task you, for sure, need to write programs in other laguages such as C, C++, Java, etc. But if you learn Python first, switiching to another language should be easy. There are many other programminh languages that may be more appropriate depending on the task, and it's possible to use languages other than Python in Jupyter notebooks. For example, among R users, *R studio* tends to be a more popular choice.\n",
    "\n",
    "Let's write our first line of code:"
   ]
  },
  {
   "cell_type": "code",
   "execution_count": 3,
   "id": "030906e6-e3ff-4a0e-b4e1-5e51ad0317e1",
   "metadata": {},
   "outputs": [
    {
     "name": "stdout",
     "output_type": "stream",
     "text": [
      "Hello world!\n"
     ]
    }
   ],
   "source": [
    "print('Hello world!')"
   ]
  },
  {
   "cell_type": "markdown",
   "id": "2ba33c3f-bf41-457c-b889-4d19b1694e51",
   "metadata": {},
   "source": [
    "As you see, code cells have `[ ]` on their left. This is used as labels to indicate *when* the cell is was executed on the kernel - in the case above, the cell was the second executed on the kernel. If you run the cell again, the label will become 3 and so on. We'll explain this further wehen we get to kernels."
   ]
  },
  {
   "cell_type": "code",
   "execution_count": 4,
   "id": "de2b80b3-bbea-4afd-97a5-d8d507a3095e",
   "metadata": {},
   "outputs": [],
   "source": [
    "import time\n",
    "time.sleep(3)"
   ]
  },
  {
   "cell_type": "markdown",
   "id": "87ec04d7-938c-4df4-abe3-9685958d257f",
   "metadata": {},
   "source": [
    "#### Keyboard shortcuts\n",
    "\n",
    "Keyboard shortcuts are a very popular aspect of the Jupyter environment because they facilitate a speedy cell-based workflow. Many of these are actions you can carry out on the active cell when it’s in command mode."
   ]
  },
  {
   "cell_type": "markdown",
   "id": "93e47987-07e0-4725-b188-ef072e79dbb8",
   "metadata": {},
   "source": [
    "|keyboard shortcut|action|\n",
    "|---|---|\n",
    "|Enter/Esc|toggle between edit and command mode|\n",
    "|m|switch to a markdown cell|\n",
    "|y|switch to a code cell|\n",
    "|a|add a cell above|\n",
    "|b|add a cell below|\n",
    "|x|cut a cell|\n",
    "|c|copy a cell|\n",
    "|v|paste a cell|\n",
    "|d|delete a cell|\n",
    "|z|undo|"
   ]
  },
  {
   "cell_type": "markdown",
   "id": "1be57e75-8a23-4e57-96cc-b2051b84b6fb",
   "metadata": {},
   "source": [
    "## Kernel\n",
    "\n",
    "Behind every notebook runs a kernel. When you run a code cell, that code is executed within the kernel. Any output is returned back to the cell to be displayed. The *ipython kernel*, as you see on the top right of this page, executes python code. Kernels for many other languages exist.\n",
    "\n",
    "When you open a Notebook document, the associated kernel is automatically launched. When the notebook is executed (either cell-by-cell or with menu Cell -> Run All), the kernel performs the computation and produces the results. Depending on the type of computations, the kernel may consume significant CPU and RAM. Note that the RAM is not released until the kernel is shut-down."
   ]
  },
  {
   "cell_type": "markdown",
   "id": "0bf3ab4a-0263-4660-9660-de009b6cfe9a",
   "metadata": {},
   "source": [
    "## Git"
   ]
  },
  {
   "cell_type": "markdown",
   "id": "4659b0bb-d9c4-4881-8d4c-09b807e5274e",
   "metadata": {},
   "source": [
    "What I tried\n",
    "\n",
    "1. Create a repo on my GitHub account.\n",
    "2. Clone the repo created in Jupyter. This creates a folder with the repo name on Jupyter.\n",
    "3. Move the notebook that I created in my Jupyter to the repo.\n",
    "4. Clicking on the Git icon, the notebook is listed in the untracked files, click on + to move the notebook to the staged files, add a summary and commit. Now the notebook is listed under *Changed*.\n",
    "5. Click on the push button to push the notebook to the repo on GitHub."
   ]
  }
 ],
 "metadata": {
  "kernelspec": {
   "display_name": "Python 3 (ipykernel)",
   "language": "python",
   "name": "python3"
  },
  "language_info": {
   "codemirror_mode": {
    "name": "ipython",
    "version": 3
   },
   "file_extension": ".py",
   "mimetype": "text/x-python",
   "name": "python",
   "nbconvert_exporter": "python",
   "pygments_lexer": "ipython3",
   "version": "3.9.5"
  }
 },
 "nbformat": 4,
 "nbformat_minor": 5
}

{
 "cells": [
  {
   "cell_type": "markdown",
   "id": "af3c2f99-75e9-49b6-a55d-ad1143164f6b",
   "metadata": {},
   "source": [
    "# Basic Math with Python"
   ]
  },
  {
   "cell_type": "markdown",
   "id": "7bf5f268-f2b5-4871-aff8-9a52016e807e",
   "metadata": {},
   "source": [
    "A computer program is a sequence of instructions in a certain computer language. So like any othe rlanguages it has its own characters and grammar.\n",
    "\n",
    "Similar to most porgramming languages, the standard arithmitic operators in Python are written as `+, - , *` and `/`. The exponentiation is done by double asterisk `**`."
   ]
  },
  {
   "cell_type": "markdown",
   "id": "d9ffc9f3-9fe0-4562-9319-7726cc4d92f1",
   "metadata": {},
   "source": [
    "Programs are built of *statements*. There are several type of statements, for example"
   ]
  },
  {
   "cell_type": "code",
   "execution_count": 2,
   "id": "9f969e55-95d6-4e4f-8498-11111b5347bc",
   "metadata": {},
   "outputs": [],
   "source": [
    "x = 1"
   ]
  },
  {
   "cell_type": "markdown",
   "id": "f87b93e6-0ded-40d0-ae0d-d3c83b12cccd",
   "metadata": {},
   "source": [
    "is an *assignment* statement, while"
   ]
  },
  {
   "cell_type": "code",
   "execution_count": 3,
   "id": "a3c082b2-2b58-4de9-a8d5-4274eb0d4b58",
   "metadata": {},
   "outputs": [
    {
     "name": "stdout",
     "output_type": "stream",
     "text": [
      "Hello World!\n"
     ]
    }
   ],
   "source": [
    "print(\"Hello World!\")"
   ]
  },
  {
   "cell_type": "markdown",
   "id": "e801fc72-d670-42a8-b18f-3a207567a6c2",
   "metadata": {},
   "source": [
    "is a *print* statement."
   ]
  },
  {
   "cell_type": "markdown",
   "id": "c6108dd4-6473-4c1c-b48e-50c9561163d4",
   "metadata": {},
   "source": [
    "In an assignment statement the `=` sign means that the expression on the right-hand side which in this case is number 3 is assigned to the **variable** `x` on the left-hand side. So expressions like"
   ]
  },
  {
   "cell_type": "code",
   "execution_count": 4,
   "id": "1f357443-4211-4c97-8284-4dd9af3d7ce3",
   "metadata": {},
   "outputs": [],
   "source": [
    "x = x+3"
   ]
  },
  {
   "cell_type": "markdown",
   "id": "f19fa6bb-be32-4ffc-a4c1-be6a281e0d0f",
   "metadata": {},
   "source": [
    "is meaningful in this context even though it is mathematically false. This expression takes the old value of `x` and adds 3 to it and stores the new value in the variable `x` again, so the old value is lost."
   ]
  },
  {
   "cell_type": "code",
   "execution_count": 5,
   "id": "b62e44e0-9d6d-426b-8681-59ada53d0426",
   "metadata": {},
   "outputs": [
    {
     "name": "stdout",
     "output_type": "stream",
     "text": [
      "4\n"
     ]
    }
   ],
   "source": [
    "print(x)"
   ]
  },
  {
   "cell_type": "code",
   "execution_count": 6,
   "id": "7cc41c51-400c-4ab2-825b-44e424a8b914",
   "metadata": {},
   "outputs": [
    {
     "data": {
      "text/plain": [
       "4"
      ]
     },
     "execution_count": 6,
     "metadata": {},
     "output_type": "execute_result"
    }
   ],
   "source": [
    "x"
   ]
  },
  {
   "cell_type": "code",
   "execution_count": 7,
   "id": "57d461a3-638c-47f2-97e5-7a03763d7520",
   "metadata": {},
   "outputs": [],
   "source": [
    "x = x*x"
   ]
  },
  {
   "cell_type": "code",
   "execution_count": 8,
   "id": "8b711de1-128b-4d74-b994-1d8de5b8f121",
   "metadata": {},
   "outputs": [
    {
     "name": "stdout",
     "output_type": "stream",
     "text": [
      "16\n"
     ]
    }
   ],
   "source": [
    "print(x)"
   ]
  },
  {
   "cell_type": "markdown",
   "id": "ade6d732-3833-4f85-8bb9-000d8c33a64c",
   "metadata": {},
   "source": [
    "### Example 1.1 Celsius-Fahrenheit Conversion\n",
    "\n",
    "Suppose $F$ is the temperature measured in Fahrenheit and $C$ is the temperature measured in Celsius,  then we have the following conversion formula \n",
    "$$F = \\frac{9}{5} C + 32 \\Leftrightarrow C = \\frac{5}{9} \\left( F-32 \\right)$$"
   ]
  },
  {
   "cell_type": "markdown",
   "id": "9c1015fd-e8e8-410d-91d6-17119b719618",
   "metadata": {},
   "source": [
    "We want to write a program that takes the tempreture in Celsius and returns the Fahrenheit value."
   ]
  },
  {
   "cell_type": "code",
   "execution_count": 9,
   "id": "1a96d715-9e7a-46bd-aace-798a009d8901",
   "metadata": {},
   "outputs": [
    {
     "name": "stdout",
     "output_type": "stream",
     "text": [
      "48.66666666666667\n",
      "The tempreture is 48.66666666666667 degree Fahrenheit.\n"
     ]
    }
   ],
   "source": [
    "C = 30\n",
    "F = (5/9)*C + 32\n",
    "print(F)\n",
    "print(\"The tempreture is\", F, \"degree Fahrenheit.\") #commas are important to print a phrase with different type of objects."
   ]
  },
  {
   "cell_type": "markdown",
   "id": "302da2da-c950-4ed1-a6d8-249cfa27d71f",
   "metadata": {},
   "source": [
    "## Numbers and Variables"
   ]
  },
  {
   "cell_type": "markdown",
   "id": "30eb9f00-677d-4a07-b200-705d39362357",
   "metadata": {},
   "source": [
    "There are 3 types of numeric objects in Python,\n",
    " \n",
    "* Integres such as 1, 0, 45, -345\n",
    "* Floating-point numebrs or floats such as 3.1415, -4.32, 2.0\n",
    "* Complex numbers such as 1+2i, -3.5-0.6i\n",
    "\n",
    "Computer will store each number type differently and they will take up different space in the computer memory. Forexample, a complex number takes up twice as much memory as a float because the computer has to store both the real and imaginary parts even if the imaginary part is 0, it still needs to be stored which requires memory space. Therefore, it is important to specify the number (and variable) type when programming."
   ]
  },
  {
   "cell_type": "code",
   "execution_count": 10,
   "id": "cf713888-86bf-4b03-bda9-c7bb7b3ce069",
   "metadata": {},
   "outputs": [
    {
     "data": {
      "text/plain": [
       "-9"
      ]
     },
     "execution_count": 10,
     "metadata": {},
     "output_type": "execute_result"
    }
   ],
   "source": [
    "-9"
   ]
  },
  {
   "cell_type": "markdown",
   "id": "b3efd613-875e-4adc-8962-a4c66809979a",
   "metadata": {},
   "source": [
    "Use the Python function `type()` to see the datatype of a value:"
   ]
  },
  {
   "cell_type": "code",
   "execution_count": 11,
   "id": "f536e177-b71b-4a8b-8a02-a74792d466b5",
   "metadata": {},
   "outputs": [
    {
     "data": {
      "text/plain": [
       "int"
      ]
     },
     "execution_count": 11,
     "metadata": {},
     "output_type": "execute_result"
    }
   ],
   "source": [
    "type(-9)"
   ]
  },
  {
   "cell_type": "code",
   "execution_count": 12,
   "id": "714bcf32-3b67-4c8d-bc55-c3d4eb316fce",
   "metadata": {},
   "outputs": [
    {
     "data": {
      "text/plain": [
       "float"
      ]
     },
     "execution_count": 12,
     "metadata": {},
     "output_type": "execute_result"
    }
   ],
   "source": [
    "type(3.1415)"
   ]
  },
  {
   "cell_type": "code",
   "execution_count": 13,
   "id": "6beeda09-6a9e-4f08-be94-c870c78f0c66",
   "metadata": {},
   "outputs": [
    {
     "data": {
      "text/plain": [
       "complex"
      ]
     },
     "execution_count": 13,
     "metadata": {},
     "output_type": "execute_result"
    }
   ],
   "source": [
    "type(1+2j) #first try with i to show that it doesn't work."
   ]
  },
  {
   "cell_type": "markdown",
   "id": "c141a2bd-9b61-4b5e-9731-47e1079eea07",
   "metadata": {},
   "source": [
    "As you see, in Python the unit imaginary number is denoted by `j` and NOT `i`."
   ]
  },
  {
   "cell_type": "markdown",
   "id": "6564469e-c9f1-4b08-bc7b-f17d9e66e0d9",
   "metadata": {},
   "source": [
    "Above, we saw assignment statements such as "
   ]
  },
  {
   "cell_type": "code",
   "execution_count": 14,
   "id": "95bd2935-d139-452d-a6c8-58b32de01afb",
   "metadata": {},
   "outputs": [],
   "source": [
    "x = 1"
   ]
  },
  {
   "cell_type": "markdown",
   "id": "1889fac4-bed9-4e18-a362-c0f7bc04756f",
   "metadata": {},
   "source": [
    "In this statement `x` is a **variable** that stores the value of 1. You can think of a variable as a box that stores values so theu can be retrieved or changes at any later time if needed. \n",
    "\n",
    "By assigning values to a variable we set the type of the variable. One main type of variables are numeric variables that store numeric types described above."
   ]
  },
  {
   "cell_type": "code",
   "execution_count": 15,
   "id": "4bc3530e-679f-4a63-a085-348739e4d450",
   "metadata": {},
   "outputs": [],
   "source": [
    "s = 123"
   ]
  },
  {
   "cell_type": "code",
   "execution_count": 16,
   "id": "42f0d712-d7bc-4328-a54e-ee416bad1330",
   "metadata": {},
   "outputs": [
    {
     "data": {
      "text/plain": [
       "123"
      ]
     },
     "execution_count": 16,
     "metadata": {},
     "output_type": "execute_result"
    }
   ],
   "source": [
    "s"
   ]
  },
  {
   "cell_type": "code",
   "execution_count": 17,
   "id": "684eed2f-380d-4051-9a86-97fc0c4afd74",
   "metadata": {},
   "outputs": [
    {
     "name": "stdout",
     "output_type": "stream",
     "text": [
      "123\n"
     ]
    }
   ],
   "source": [
    "print(s)"
   ]
  },
  {
   "cell_type": "code",
   "execution_count": 18,
   "id": "dafc688a-2005-4791-a51b-9c5d39e40fcd",
   "metadata": {},
   "outputs": [
    {
     "data": {
      "text/plain": [
       "int"
      ]
     },
     "execution_count": 18,
     "metadata": {},
     "output_type": "execute_result"
    }
   ],
   "source": [
    "type(s)"
   ]
  },
  {
   "cell_type": "code",
   "execution_count": 19,
   "id": "9728ea0b-6500-41fd-ad1b-e00e976136b9",
   "metadata": {},
   "outputs": [],
   "source": [
    "e = 2.781"
   ]
  },
  {
   "cell_type": "code",
   "execution_count": 20,
   "id": "3fac384f-e04c-495a-9439-a06571e0b982",
   "metadata": {},
   "outputs": [
    {
     "data": {
      "text/plain": [
       "float"
      ]
     },
     "execution_count": 20,
     "metadata": {},
     "output_type": "execute_result"
    }
   ],
   "source": [
    "type(e)"
   ]
  },
  {
   "cell_type": "markdown",
   "id": "39e2fe6f-6150-4219-beb4-b34092060e21",
   "metadata": {},
   "source": [
    "To view a list of variables currently defined we use the command `whos`"
   ]
  },
  {
   "cell_type": "code",
   "execution_count": 21,
   "id": "a919cea7-5456-4c7a-a17d-34a30f53b11d",
   "metadata": {},
   "outputs": [
    {
     "name": "stdout",
     "output_type": "stream",
     "text": [
      "Variable   Type     Data/Info\n",
      "-----------------------------\n",
      "C          int      30\n",
      "F          float    48.66666666666667\n",
      "e          float    2.781\n",
      "s          int      123\n",
      "x          int      1\n"
     ]
    }
   ],
   "source": [
    "whos"
   ]
  },
  {
   "cell_type": "markdown",
   "id": "4a7abfa8-edb9-429c-a683-9a0507ac75bf",
   "metadata": {},
   "source": [
    "We discussed earlier that the value and the type of a variable can be changed as we run a program."
   ]
  },
  {
   "cell_type": "code",
   "execution_count": 22,
   "id": "3e869b01-4934-48f0-b403-eea3adb8baba",
   "metadata": {},
   "outputs": [],
   "source": [
    "s = 1"
   ]
  },
  {
   "cell_type": "code",
   "execution_count": 23,
   "id": "fc906a36-e2bd-4f63-885b-6320745e8b9f",
   "metadata": {},
   "outputs": [],
   "source": [
    "s = 3.4"
   ]
  },
  {
   "cell_type": "code",
   "execution_count": 24,
   "id": "29e01b87-8c49-4fb7-870a-5d9aad63f3e6",
   "metadata": {},
   "outputs": [],
   "source": [
    "s = \"Hey you!\" "
   ]
  },
  {
   "cell_type": "markdown",
   "id": "089cb590-4ae1-401b-8504-63f52cd8cad8",
   "metadata": {},
   "source": [
    "The last executable line of code assign a string to the variable `x` which will be its current value."
   ]
  },
  {
   "cell_type": "code",
   "execution_count": 25,
   "id": "c1a87164-9c21-4d46-b4e6-ccdf9f9b75ab",
   "metadata": {},
   "outputs": [
    {
     "data": {
      "text/plain": [
       "'Hey you!'"
      ]
     },
     "execution_count": 25,
     "metadata": {},
     "output_type": "execute_result"
    }
   ],
   "source": [
    "s #advise against assigning different variable types to one variable."
   ]
  },
  {
   "cell_type": "markdown",
   "id": "72c5e382-3b99-4814-a9d1-fa6bf306e760",
   "metadata": {},
   "source": [
    "## Arithmetic"
   ]
  },
  {
   "cell_type": "code",
   "execution_count": 26,
   "id": "434505ff-140d-413e-be3d-1856ea0fd7db",
   "metadata": {},
   "outputs": [
    {
     "data": {
      "text/plain": [
       "5"
      ]
     },
     "execution_count": 26,
     "metadata": {},
     "output_type": "execute_result"
    }
   ],
   "source": [
    "1+4"
   ]
  },
  {
   "cell_type": "code",
   "execution_count": 27,
   "id": "b5304835-d0b0-4e54-8aab-9f5f73a80828",
   "metadata": {},
   "outputs": [],
   "source": [
    "x = 2; y = 3"
   ]
  },
  {
   "cell_type": "code",
   "execution_count": 28,
   "id": "a34f3c3c-e1cb-4bbe-9e24-a8456d5f3cca",
   "metadata": {},
   "outputs": [
    {
     "data": {
      "text/plain": [
       "5"
      ]
     },
     "execution_count": 28,
     "metadata": {},
     "output_type": "execute_result"
    }
   ],
   "source": [
    "x+y"
   ]
  },
  {
   "cell_type": "code",
   "execution_count": 29,
   "id": "0549eeeb-58b6-4996-b038-ae22f634afdd",
   "metadata": {},
   "outputs": [
    {
     "name": "stdout",
     "output_type": "stream",
     "text": [
      "5\n"
     ]
    }
   ],
   "source": [
    "print(x+y)"
   ]
  },
  {
   "cell_type": "code",
   "execution_count": 30,
   "id": "805eada2-9090-405c-ac78-80ce5c14fcae",
   "metadata": {},
   "outputs": [
    {
     "data": {
      "text/plain": [
       "-1"
      ]
     },
     "execution_count": 30,
     "metadata": {},
     "output_type": "execute_result"
    }
   ],
   "source": [
    "x-y"
   ]
  },
  {
   "cell_type": "code",
   "execution_count": 31,
   "id": "7d1eb493-2ac9-423b-9fb2-b97ce833f308",
   "metadata": {},
   "outputs": [
    {
     "data": {
      "text/plain": [
       "6"
      ]
     },
     "execution_count": 31,
     "metadata": {},
     "output_type": "execute_result"
    }
   ],
   "source": [
    "x*y"
   ]
  },
  {
   "cell_type": "code",
   "execution_count": 32,
   "id": "523af875-0c60-4b64-817f-9208731c53c0",
   "metadata": {},
   "outputs": [
    {
     "data": {
      "text/plain": [
       "0.6666666666666666"
      ]
     },
     "execution_count": 32,
     "metadata": {},
     "output_type": "execute_result"
    }
   ],
   "source": [
    "x/y"
   ]
  },
  {
   "cell_type": "markdown",
   "id": "eba2bbca-877d-4c4a-b399-bca97150cf1e",
   "metadata": {},
   "source": [
    "Power operation is double asterisk `**`."
   ]
  },
  {
   "cell_type": "code",
   "execution_count": 33,
   "id": "778a2811-77ce-494f-ba10-663d03eb0730",
   "metadata": {},
   "outputs": [
    {
     "data": {
      "text/plain": [
       "8"
      ]
     },
     "execution_count": 33,
     "metadata": {},
     "output_type": "execute_result"
    }
   ],
   "source": [
    "2**3"
   ]
  },
  {
   "cell_type": "markdown",
   "id": "701c9723-f849-4163-866e-c1bb6a292a52",
   "metadata": {},
   "source": [
    "Two other operations are integer division `//` and modulo operation `%`.\n",
    "\n",
    "`x//y` return the integer quotient of division of x by y i.e. the result of division rounded down to the nearest integer.\n",
    "\n",
    "`x%y` returns the remainder of devision of x by y."
   ]
  },
  {
   "cell_type": "code",
   "execution_count": 34,
   "id": "c1e369de-5ab3-46fe-8f70-e158f0e50b28",
   "metadata": {},
   "outputs": [
    {
     "data": {
      "text/plain": [
       "3"
      ]
     },
     "execution_count": 34,
     "metadata": {},
     "output_type": "execute_result"
    }
   ],
   "source": [
    "16//5"
   ]
  },
  {
   "cell_type": "code",
   "execution_count": 35,
   "id": "74bc08a3-0645-4b8a-b5a8-f9892a9b2b12",
   "metadata": {},
   "outputs": [
    {
     "data": {
      "text/plain": [
       "1"
      ]
     },
     "execution_count": 35,
     "metadata": {},
     "output_type": "execute_result"
    }
   ],
   "source": [
    "16%3 "
   ]
  },
  {
   "cell_type": "markdown",
   "id": "913ef535-6bd0-4899-a8e3-22f9815d2744",
   "metadata": {},
   "source": [
    "Mathematically speaking we know $16 = (3 . 5)+1$"
   ]
  },
  {
   "cell_type": "markdown",
   "id": "7548edee-eaa3-4156-a584-a923877ec1b0",
   "metadata": {},
   "source": [
    "The type of the resulting value of arithmetic operations depends on the types of variables it is made up of."
   ]
  },
  {
   "cell_type": "code",
   "execution_count": 36,
   "id": "036a5d6b-dfa2-4be1-aa14-2753a9b52e96",
   "metadata": {},
   "outputs": [],
   "source": [
    " pi = 3 + 0.1415"
   ]
  },
  {
   "cell_type": "code",
   "execution_count": 37,
   "id": "38776f4a-27a3-499d-b4c3-3a86e6d18069",
   "metadata": {},
   "outputs": [
    {
     "data": {
      "text/plain": [
       "float"
      ]
     },
     "execution_count": 37,
     "metadata": {},
     "output_type": "execute_result"
    }
   ],
   "source": [
    "type(pi)"
   ]
  },
  {
   "cell_type": "markdown",
   "id": "3924bc90-0b76-458c-84e8-666d3199b0b1",
   "metadata": {},
   "source": [
    "Arithmetic between a float and an integer results in a float. More briadly, the result of arithmetic between variables of two different type is the more general type."
   ]
  },
  {
   "cell_type": "code",
   "execution_count": 38,
   "id": "5c61d63d-c9d2-4e25-b077-23e11cf638cd",
   "metadata": {},
   "outputs": [
    {
     "data": {
      "text/plain": [
       "float"
      ]
     },
     "execution_count": 38,
     "metadata": {},
     "output_type": "execute_result"
    }
   ],
   "source": [
    "type(2.0*1)"
   ]
  },
  {
   "cell_type": "markdown",
   "id": "dc5330fb-c6b0-409d-98c6-b518efa59662",
   "metadata": {},
   "source": [
    "Arithmetic operations can be combined to make more complicated expressions. The order of operations is similar to those of normal algebra; powers are performed before multiplication and division, multiplication and division are perfomed before addition and subtraction, and if there are multiple divisions or multil=plications in a row, the operations are performed from left to right."
   ]
  },
  {
   "cell_type": "code",
   "execution_count": 39,
   "id": "c546d479-5297-4993-9935-fd649f3cadaf",
   "metadata": {},
   "outputs": [],
   "source": [
    "x = 2; y = 3; z = -4"
   ]
  },
  {
   "cell_type": "code",
   "execution_count": 45,
   "id": "18adae44-2f7e-47c5-90a8-88a86b16e70a",
   "metadata": {},
   "outputs": [
    {
     "data": {
      "text/plain": [
       "-10"
      ]
     },
     "execution_count": 45,
     "metadata": {},
     "output_type": "execute_result"
    }
   ],
   "source": [
    "x+y*z #x+(y*z)"
   ]
  },
  {
   "cell_type": "code",
   "execution_count": 46,
   "id": "b5e3a6f6-46e1-4996-ac39-cb8e58277a1f",
   "metadata": {},
   "outputs": [
    {
     "data": {
      "text/plain": [
       "27"
      ]
     },
     "execution_count": 46,
     "metadata": {},
     "output_type": "execute_result"
    }
   ],
   "source": [
    "3*y**2 #3(y^2)"
   ]
  },
  {
   "cell_type": "code",
   "execution_count": 47,
   "id": "67b28ed3-b269-4d2d-86ae-5e3fdba0f646",
   "metadata": {},
   "outputs": [
    {
     "data": {
      "text/plain": [
       "-6.0"
      ]
     },
     "execution_count": 47,
     "metadata": {},
     "output_type": "execute_result"
    }
   ],
   "source": [
    "y*z/x #(y*z)/x"
   ]
  },
  {
   "cell_type": "markdown",
   "id": "c54e344f-6701-44da-9dfb-3bf7cdface36",
   "metadata": {},
   "source": [
    "Note that division always returns a float type."
   ]
  },
  {
   "cell_type": "markdown",
   "id": "374addc0-4966-4818-a5b9-6bc9775e1653",
   "metadata": {},
   "source": [
    "To clarify the order of operations in an expression we use parentheses `()` as we do in normal algebra."
   ]
  },
  {
   "cell_type": "code",
   "execution_count": 43,
   "id": "5b552e64-24b0-422b-94a9-d1166a1c185a",
   "metadata": {},
   "outputs": [
    {
     "data": {
      "text/plain": [
       "-20"
      ]
     },
     "execution_count": 43,
     "metadata": {},
     "output_type": "execute_result"
    }
   ],
   "source": [
    "(x+y)*z"
   ]
  },
  {
   "cell_type": "code",
   "execution_count": 44,
   "id": "3d34c004-db36-4827-9e76-4d74be37d7fa",
   "metadata": {},
   "outputs": [
    {
     "data": {
      "text/plain": [
       "-10"
      ]
     },
     "execution_count": 44,
     "metadata": {},
     "output_type": "execute_result"
    }
   ],
   "source": [
    "x+(y*z)"
   ]
  },
  {
   "cell_type": "code",
   "execution_count": null,
   "id": "15549345-1254-4c64-be5e-11949a237343",
   "metadata": {},
   "outputs": [],
   "source": []
  }
 ],
 "metadata": {
  "kernelspec": {
   "display_name": "Python 3 (ipykernel)",
   "language": "python",
   "name": "python3"
  },
  "language_info": {
   "codemirror_mode": {
    "name": "ipython",
    "version": 3
   },
   "file_extension": ".py",
   "mimetype": "text/x-python",
   "name": "python",
   "nbconvert_exporter": "python",
   "pygments_lexer": "ipython3",
   "version": "3.9.5"
  }
 },
 "nbformat": 4,
 "nbformat_minor": 5
}
